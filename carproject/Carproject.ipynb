{
 "cells": [
  {
   "cell_type": "code",
   "execution_count": 32,
   "id": "84783213",
   "metadata": {
    "scrolled": true
   },
   "outputs": [],
   "source": [
    "import numpy as np # linear algebra\n",
    "import pandas as pd # data processing, CSV file I/O (e.g. pd.read_csv)\n",
    "import os\n",
    "\n",
    "\n",
    "\n",
    "\n"
   ]
  },
  {
   "cell_type": "code",
   "execution_count": 33,
   "id": "652ffff3",
   "metadata": {
    "scrolled": true
   },
   "outputs": [],
   "source": [
    "\n",
    "csv_file_name = \"data.csv\" \n",
    "df = pd.read_csv(\"data.csv\")\n",
    "\n"
   ]
  },
  {
   "cell_type": "code",
   "execution_count": null,
   "id": "d874f8d7",
   "metadata": {},
   "outputs": [],
   "source": []
  },
  {
   "cell_type": "code",
   "execution_count": 34,
   "id": "559ac9a4",
   "metadata": {},
   "outputs": [],
   "source": [
    "def get_user_input():\n",
    "    print(\"Please enter your car preferences in USD.\")\n",
    "    \n",
    "    min_price = float(input(\"Minimum price in USD: \"))\n",
    "    max_price = float(input(\"Maximum price in USD: \"))\n",
    "    preferred_body_type = input(\"Preferred body type (e.g., SUV, Sedan, enter multiple separated by comma): \").split(',')\n",
    "    preferred_body_type = [bt.strip().lower() for bt in preferred_body_type]\n",
    "    min_mileage = float(input(\"Minimum mileage (kilometers): \"))\n",
    "    max_mileage = float(input(\"Maximum mileage (kilometers): \"))\n",
    "    min_year = int(input(\"Minimum year: \"))\n",
    "    max_year = int(input(\"Maximum year: \"))\n",
    "    fuel_type = input(\"Fuel type (e.g., Gasoline, Diesel, enter multiple separated by comma): \").split(',')\n",
    "    fuel_type = [ft.strip().lower() for ft in fuel_type]\n",
    "    \n",
    "    return min_price, max_price, preferred_body_type, min_mileage, max_mileage, min_year, max_year, fuel_type\n",
    "\n"
   ]
  },
  {
   "cell_type": "code",
   "execution_count": 35,
   "id": "7876c15a",
   "metadata": {},
   "outputs": [],
   "source": [
    "def filter_cars(df, exchange_rate=0.27):\n",
    "    min_price, max_price, preferred_body_type, min_mileage, max_mileage, min_year, max_year, fuel_type = get_user_input()\n",
    "    \n",
    "    # Convert price to USD\n",
    "    df['price_in_aed'] = df['price_in_aed'].str.replace(',', '').astype(float)\n",
    "    df['price_in_usd'] = df['price_in_aed'] * exchange_rate\n",
    "    df['body_type'] = df['body_type'].str.lower()\n",
    "    df['fuel_type'] = df['fuel_type'].str.lower()\n",
    "    preferred_body_type = [bt.lower() for bt in preferred_body_type]\n",
    "    fuel_type = [ft.lower() for ft in fuel_type]\n",
    "    # Filter based on user input but use USD price for comparison\n",
    "    filtered_df = df[\n",
    "        (df['price_in_usd'] >= min_price) &\n",
    "        (df['price_in_usd'] <= max_price) &\n",
    "        (df['body_type'].isin(preferred_body_type)) &\n",
    "        (df['kilometers'] >= min_mileage) &\n",
    "        (df['kilometers'] <= max_mileage) &\n",
    "        (df['year'] >= min_year) &\n",
    "        (df['year'] <= max_year) &\n",
    "        (df['fuel_type'].isin(fuel_type))\n",
    "    ]\n",
    "    \n",
    "    if filtered_df.empty:\n",
    "        print(\"Sorry, we don't have any car that meets your criteria.\")\n",
    "    else:\n",
    "        return filtered_df\n",
    "\n",
    "\n",
    "df = pd.read_csv(csv_file_name)\n",
    "\n",
    "\n"
   ]
  },
  {
   "cell_type": "code",
   "execution_count": 36,
   "id": "6dff8d16",
   "metadata": {},
   "outputs": [
    {
     "name": "stdout",
     "output_type": "stream",
     "text": [
      "Please enter your car preferences in USD.\n",
      "Minimum price in USD: 20000\n",
      "Maximum price in USD: 40000\n",
      "Preferred body type (e.g., SUV, Sedan, enter multiple separated by comma): SUV, Sedan\n",
      "Minimum mileage (kilometers): 0\n",
      "Maximum mileage (kilometers): 100000\n",
      "Minimum year: 0\n",
      "Maximum year: 10\n",
      "Fuel type (e.g., Gasoline, Diesel, enter multiple separated by comma): Gasoline\n",
      "Sorry, we don't have any car that meets your criteria.\n"
     ]
    }
   ],
   "source": [
    "# display the results\n",
    "filtered_cars = filter_cars(df)\n",
    "if filtered_cars is not None:\n",
    "    print(filtered_cars.head()) "
   ]
  },
  {
   "cell_type": "code",
   "execution_count": null,
   "id": "4b1bf38a",
   "metadata": {},
   "outputs": [],
   "source": []
  }
 ],
 "metadata": {
  "kernelspec": {
   "display_name": "Python 3 (ipykernel)",
   "language": "python",
   "name": "python3"
  },
  "language_info": {
   "codemirror_mode": {
    "name": "ipython",
    "version": 3
   },
   "file_extension": ".py",
   "mimetype": "text/x-python",
   "name": "python",
   "nbconvert_exporter": "python",
   "pygments_lexer": "ipython3",
   "version": "3.11.5"
  }
 },
 "nbformat": 4,
 "nbformat_minor": 5
}
